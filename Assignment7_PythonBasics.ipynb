{
 "cells": [
  {
   "cell_type": "markdown",
   "id": "223ffa0c",
   "metadata": {},
   "source": [
    "#### 1. What is the name of the feature responsible for generating Regex objects?"
   ]
  },
  {
   "cell_type": "markdown",
   "id": "56cd6873",
   "metadata": {},
   "source": [
    "Ans: <b>re.compile()</b> is the feature responsible for generation of Regex objects.\n",
    "<br> <b>Syntax : re.compile(pattern, String)</b>"
   ]
  },
  {
   "cell_type": "code",
   "execution_count": 10,
   "id": "4a26ba75",
   "metadata": {},
   "outputs": [
    {
     "name": "stdout",
     "output_type": "stream",
     "text": [
      "['b', 'c', 'h', 'f', 'e']\n"
     ]
    }
   ],
   "source": [
    "import re\n",
    "#compile() creates regular expression\n",
    "# character class [a-e],\n",
    "# which is equivalent to [abcde].\n",
    "# class [abcde] will match with string with\n",
    "# 'a', 'b', 'c', 'd', 'e'.\n",
    "regobj = re.compile('[a-h]')\n",
    "result = regobj.findall(\"A bunch of vowels\")\n",
    "print(result)"
   ]
  },
  {
   "cell_type": "markdown",
   "id": "5d203412",
   "metadata": {},
   "source": [
    "#### 2. Why do raw strings often appear in Regex objects?"
   ]
  },
  {
   "cell_type": "markdown",
   "id": "68d77bfc",
   "metadata": {},
   "source": [
    "<b> Ans: </b> Regular expressions use the backslash character (\"\\\\\") to indicate special forms (Metacharacters) or to allow special characters (speical sequences) to be used without invoking their special meaning. This collides with Python’s usage of the same character for the same purpose in string literals. Hence, Raw strings are used (e.g. r\"\\n\") so that backslashes do not have to be escaped."
   ]
  },
  {
   "cell_type": "markdown",
   "id": "567ba75d",
   "metadata": {},
   "source": [
    "#### 3. What is the return value of the search() method?"
   ]
  },
  {
   "cell_type": "markdown",
   "id": "86f7357b",
   "metadata": {},
   "source": [
    "<b> Ans: </b> The return value of <b>re.search(pattern,string)</b> method is a match object if the pattern is observed in the string else it returns a None"
   ]
  },
  {
   "cell_type": "code",
   "execution_count": 16,
   "id": "eda19ac9",
   "metadata": {},
   "outputs": [
    {
     "name": "stdout",
     "output_type": "stream",
     "text": [
      "None\n"
     ]
    }
   ],
   "source": [
    "import re\n",
    "string = \"Full stack DataScience.\"\n",
    "match = re.search(r'd', string)\n",
    "print(match)"
   ]
  },
  {
   "cell_type": "code",
   "execution_count": 18,
   "id": "bd99d29f",
   "metadata": {},
   "outputs": [
    {
     "name": "stdout",
     "output_type": "stream",
     "text": [
      "<re.Match object; span=(5, 6), match='s'>\n"
     ]
    }
   ],
   "source": [
    "import re\n",
    "string = \"Full stack DataScience.\"\n",
    "match = re.search(r's', string)\n",
    "print(match)"
   ]
  },
  {
   "cell_type": "markdown",
   "id": "585ca76c",
   "metadata": {},
   "source": [
    "#### 4. From a Match item, how do you get the actual strings that match the pattern?"
   ]
  },
  {
   "cell_type": "markdown",
   "id": "e747693c",
   "metadata": {},
   "source": [
    "<b> Ans: </b> For Matched items group() methods returns actual strings that match the pattern"
   ]
  },
  {
   "cell_type": "code",
   "execution_count": 25,
   "id": "dfe528f0",
   "metadata": {},
   "outputs": [
    {
     "name": "stdout",
     "output_type": "stream",
     "text": [
      "Full stack\n"
     ]
    }
   ],
   "source": [
    "import re\n",
    "string = \"Full stack DataScience.\"\n",
    "match = re.search('Full stack', string)\n",
    "print(match.group())"
   ]
  },
  {
   "cell_type": "markdown",
   "id": "4d4730ec",
   "metadata": {},
   "source": [
    "####  5. In the regex which created from the r&#39;(\\d\\d\\d)-(\\d\\d\\d-\\d\\d\\d\\d)&#39;, what does group zero cover? Group 2? Group 1?"
   ]
  },
  {
   "cell_type": "markdown",
   "id": "0240e07a",
   "metadata": {},
   "source": [
    "<b> Ans: </b> In the Regex r'(\\d\\d\\d)-(\\d\\d\\d-\\d\\d\\d\\d)' the zero group covers the entire pattern match where as the first group cover (\\d\\d\\d) and the second group cover (\\d\\d\\d-\\d\\d\\d\\d)"
   ]
  },
  {
   "cell_type": "code",
   "execution_count": 26,
   "id": "3587ded0",
   "metadata": {},
   "outputs": [
    {
     "name": "stdout",
     "output_type": "stream",
     "text": [
      "('342', '568-7292')\n",
      "342-568-7292\n",
      "342\n",
      "568-7292\n"
     ]
    }
   ],
   "source": [
    "import re\n",
    "NumRegex = re.compile(r'(\\d\\d\\d)-(\\d\\d\\d-\\d\\d\\d\\d)')\n",
    "m = NumRegex.search('My number is 342-568-7292.')\n",
    "print(m.groups()) # Prints all groups in a tuple format\n",
    "print(m.group()) # Always returns the fully matched string \n",
    "print(m.group(1)) # Returns the first group\n",
    "print(m.group(2)) # Returns the second group"
   ]
  },
  {
   "cell_type": "markdown",
   "id": "8f2c7468",
   "metadata": {},
   "source": [
    "#### 6. In standard expression syntax, parentheses and intervals have distinct meanings. How can you tell a regex that you want it to fit real parentheses and periods?"
   ]
  },
  {
   "cell_type": "markdown",
   "id": "493e4263",
   "metadata": {},
   "source": [
    "<b> Ans: </b> The <b>\\\\. \\\\\\( and \\\\ )</b> escape characters in the raw string passed to re.compile() will match actual parenthesis characters."
   ]
  },
  {
   "cell_type": "code",
   "execution_count": 27,
   "id": "aa3798db",
   "metadata": {},
   "outputs": [
    {
     "name": "stdout",
     "output_type": "stream",
     "text": [
      "(000) 000-0000\n"
     ]
    }
   ],
   "source": [
    "import re\n",
    "Regex = re.compile(r'(\\(\\d\\d\\d\\)) (\\d\\d\\d-\\d\\d\\d\\d)')\n",
    "m = Regex.search('My phone number is (000) 000-0000.')\n",
    "print(m.group())"
   ]
  },
  {
   "cell_type": "markdown",
   "id": "d61bf5c8",
   "metadata": {},
   "source": [
    "#### 7. The findall() method returns a string list or a list of string tuples. What causes it to return one of the two options?"
   ]
  },
  {
   "cell_type": "markdown",
   "id": "ac853b7a",
   "metadata": {},
   "source": [
    "<b> Ans: </b> If the regex pattern has no groups, a list of strings matched is returned. if the regex pattern has groups, a list of tuple of strings is returned."
   ]
  },
  {
   "cell_type": "code",
   "execution_count": 32,
   "id": "a6575069",
   "metadata": {},
   "outputs": [
    {
     "name": "stdout",
     "output_type": "stream",
     "text": [
      "['123-456-7890', '987-654-3210']\n"
     ]
    }
   ],
   "source": [
    "import re\n",
    " \n",
    "# A sample text string where regular expression\n",
    "# is searched.\n",
    "string = \"\"\"Hello my Number is 123-456-7890 and\n",
    "            my friend's number is 987-654-3210\"\"\"\n",
    " \n",
    "# A sample regular expression to find digits.\n",
    "regex = '\\d{3}-\\d{3}-\\d{4}'\n",
    " \n",
    "match = re.findall(regex, string)\n",
    "print(match)"
   ]
  },
  {
   "cell_type": "markdown",
   "id": "96f11c4b",
   "metadata": {},
   "source": [
    "#### 8. In standard expressions, what does the | character mean?"
   ]
  },
  {
   "cell_type": "markdown",
   "id": "8f2659c1",
   "metadata": {},
   "source": [
    "<b> Ans: </b> In Standard Expressions | means OR operator."
   ]
  },
  {
   "cell_type": "markdown",
   "id": "0240c308",
   "metadata": {},
   "source": [
    "#### 9. In regular expressions, what does the character stand for?"
   ]
  },
  {
   "cell_type": "markdown",
   "id": "2b427c53",
   "metadata": {},
   "source": [
    "<b> Ans: </b>  In regular Expressions, ? characters represents zero or one match of the preceeding group."
   ]
  },
  {
   "cell_type": "code",
   "execution_count": 2,
   "id": "2d870089",
   "metadata": {},
   "outputs": [
    {
     "name": "stdout",
     "output_type": "stream",
     "text": [
      "<re.Match object; span=(0, 7), match='Ineuron'>\n",
      "<re.Match object; span=(0, 7), match='Ineuron'>\n"
     ]
    }
   ],
   "source": [
    "import re\n",
    "match_1 = re.search(\"I(ne)?uron\", \"Ineuron Datascience\")\n",
    "print(match_1)\n",
    "match_2 = re.search(\"I(ne)?uron\", \"Ineuron Datascience\")\n",
    "print(match_2)"
   ]
  },
  {
   "cell_type": "markdown",
   "id": "3fe05627",
   "metadata": {},
   "source": [
    "#### 10.In regular expressions, what is the difference between the + and * characters?"
   ]
  },
  {
   "cell_type": "markdown",
   "id": "71f4b7b9",
   "metadata": {},
   "source": [
    "<b> Ans: </b>  In Regular Expressions, * Represents Zero ore more occurances of the preceeding group, whereas + represents one or more occurances of the preceeding group."
   ]
  },
  {
   "cell_type": "code",
   "execution_count": 4,
   "id": "50e36acd",
   "metadata": {},
   "outputs": [
    {
     "name": "stdout",
     "output_type": "stream",
     "text": [
      "<re.Match object; span=(0, 7), match='Ineuron'>\n",
      "None\n"
     ]
    }
   ],
   "source": [
    "import re\n",
    "match_1 = re.search(\"I(ne)*uron\", \"Ineuron Datascience\")\n",
    "print(match_1)\n",
    "match_2 = re.search(\"I(ne)+uron\", \"Datascience\")\n",
    "print(match_2)"
   ]
  },
  {
   "cell_type": "markdown",
   "id": "bdb1bad6",
   "metadata": {},
   "source": [
    "#### 11. What is the difference between {4} and {4,5} in regular expression?"
   ]
  },
  {
   "cell_type": "markdown",
   "id": "faf81a8e",
   "metadata": {},
   "source": [
    "<b> Ans: </b> {4} means that its preceeding group should repeat 4 times. where as {4,5} means that its preceeding group should repeat mininum 4 times and maximum 5 times inclusively"
   ]
  },
  {
   "cell_type": "code",
   "execution_count": 25,
   "id": "cc8c26d9",
   "metadata": {},
   "outputs": [
    {
     "name": "stdout",
     "output_type": "stream",
     "text": [
      "None\n",
      "<re.Match object; span=(0, 4), match='1111'>\n",
      "<re.Match object; span=(0, 5), match='11111'>\n"
     ]
    }
   ],
   "source": [
    "import re\n",
    "regop = re.compile(r\"(1){4,5}\")\n",
    "t = regop.search('1')\n",
    "print(t)\n",
    "t1 = regop.search('1111')\n",
    "print(t1)\n",
    "t2 = regop.search('111111')\n",
    "print(t2)"
   ]
  },
  {
   "cell_type": "markdown",
   "id": "ebd78faf",
   "metadata": {},
   "source": [
    "#### 12. What do you mean by the \\d, \\w, and \\s shorthand character classes signify in regular expressions?"
   ]
  },
  {
   "cell_type": "markdown",
   "id": "7becc933",
   "metadata": {},
   "source": [
    "<b> Ans: </b> \\d, \\w and \\s are special sequences in regular expresssions in python:\n",
    "      <t> <br> 1. <b> \\d </b> : Matches a digit character equivalent to [0-9]\n",
    "       <t><br> 2. <b> \\w </b> : Matches a word character equivalent to [a-zA-Z0-9]\n",
    "       <t><br> 3. <b> \\s </b> : Matches whitespace character (space, tab, newline, etc.)"
   ]
  },
  {
   "cell_type": "markdown",
   "id": "269dc7b3",
   "metadata": {},
   "source": [
    "#### 13. What do means by \\D, \\W, and \\S shorthand character classes signify in regular expressions?"
   ]
  },
  {
   "cell_type": "markdown",
   "id": "653d4d23",
   "metadata": {},
   "source": [
    " <b> Ans: </b> \\d, \\w and \\s are special sequences in regular expresssions in python:\n",
    "      </t> <br> 1. <b> \\D </b> : Matches any non-digit character, this is equivalent to the set class [^0-9]\n",
    "       </t><br> 2. <b> \\W </b> : Matches any non-alphanumeric character equivalent to [^a-zA-Z0-9_]\n",
    "       </t><br> 3. <b> \\S </b> : Matches any non-whitespace character"
   ]
  },
  {
   "cell_type": "markdown",
   "id": "fab391d0",
   "metadata": {},
   "source": [
    "#### 14. What is the difference between .**? and .*  ?"
   ]
  },
  {
   "cell_type": "markdown",
   "id": "512848fd",
   "metadata": {},
   "source": [
    " <b> Ans:   .*</b> is a Greedy mode, which returns the longest string that meets the condition. <br>Whereas <b>.*?</b> is a non greedy mode which returns the shortest string that meets the condition."
   ]
  },
  {
   "cell_type": "markdown",
   "id": "5833050d",
   "metadata": {},
   "source": [
    "#### 15. What is the syntax for matching both numbers and lowercase letters with a character class?"
   ]
  },
  {
   "cell_type": "markdown",
   "id": "6099b385",
   "metadata": {},
   "source": [
    "<b> Ans:</b> The Synatax is Either [a-z0-9] or [0-9a-z]"
   ]
  },
  {
   "cell_type": "markdown",
   "id": "750fb5e8",
   "metadata": {},
   "source": [
    "#### 16. What is the procedure for making a normal expression in regax case insensitive?"
   ]
  },
  {
   "cell_type": "markdown",
   "id": "7e380d0e",
   "metadata": {},
   "source": [
    "<b> Ans: </b> We can pass <b>re.IGNORECASE as a flag</b> to make a noraml expression case insensitive"
   ]
  },
  {
   "cell_type": "markdown",
   "id": "bf5a278d",
   "metadata": {},
   "source": [
    "#### 17. What does the . character normally match? What does it match if re.DOTALL is passed as 2nd argument in re.compile()?"
   ]
  },
  {
   "cell_type": "markdown",
   "id": "dc6fd3a9",
   "metadata": {},
   "source": [
    "<b> Ans: </b> Dot <b>.</b> character matches everything in input except newline character .. By passing <b>re.DOTALL</b> as a flag to <b>re.compile()</b>, you can make the dot character match all characters, including the newline character."
   ]
  },
  {
   "cell_type": "markdown",
   "id": "df12c775",
   "metadata": {},
   "source": [
    "#### 18. If numReg = re.compile(r&#39;\\d+&#39;), what will numRegex.sub(&#39;X&#39;, &#39;11 drummers, 10 pipers, five rings, 4 hen&#39;) return?"
   ]
  },
  {
   "cell_type": "markdown",
   "id": "c8f3a635",
   "metadata": {},
   "source": [
    "<b> Ans: </b> The Ouput will be <b>'X drummers, X pipers, five rings, X hen'"
   ]
  },
  {
   "cell_type": "code",
   "execution_count": 27,
   "id": "18d0f8f3",
   "metadata": {},
   "outputs": [
    {
     "data": {
      "text/plain": [
       "'X drummers, X pipers, five rings, X hen'"
      ]
     },
     "execution_count": 27,
     "metadata": {},
     "output_type": "execute_result"
    }
   ],
   "source": [
    "import re\n",
    "numReg = re.compile(r'\\d+')\n",
    "numReg.sub('X', '11 drummers, 10 pipers, five rings, 4 hen')"
   ]
  },
  {
   "cell_type": "markdown",
   "id": "9751a642",
   "metadata": {},
   "source": [
    "#### 19. What does passing re.VERBOSE as the 2nd argument to re.compile() allow to do?"
   ]
  },
  {
   "cell_type": "markdown",
   "id": "41b62879",
   "metadata": {},
   "source": [
    "<b> Ans:  re.VERBOSE</b> will allow to add whitespace and comments to string passed to <b/>re.compile()."
   ]
  },
  {
   "cell_type": "code",
   "execution_count": 28,
   "id": "87b9a577",
   "metadata": {},
   "outputs": [],
   "source": [
    "import re\n",
    "a = re.compile(r\"\"\"\\d +  # the integral part\n",
    "                   \\.    # the decimal point\n",
    "                   \\d *  # some fractional digits\"\"\", re.X)\n",
    "b = re.compile(r\"\\d+\\.\\d*\")"
   ]
  },
  {
   "cell_type": "markdown",
   "id": "4efb4414",
   "metadata": {},
   "source": [
    "#### 20. How would you write a regex that match a number with comma for every three digits? It must match the given following:\n",
    "<br>&#39;42&#39;\n",
    "<br>&#39;1,234&#39;\n",
    "<br>&#39;6,368,745&#39;\n",
    "<br>but not the following:\n",
    "<br>&#39;12,34,567&#39; (which has only two digits between the commas)\n",
    "<br>&#39;1234&#39; (which lacks commas)"
   ]
  },
  {
   "cell_type": "code",
   "execution_count": 30,
   "id": "6e329859",
   "metadata": {},
   "outputs": [
    {
     "name": "stdout",
     "output_type": "stream",
     "text": [
      "42 -> <re.Match object; span=(0, 2), match='42'>\n",
      "1,234 -> <re.Match object; span=(0, 5), match='1,234'>\n",
      "6,368,745 -> <re.Match object; span=(0, 9), match='6,368,745'>\n",
      "12,34,567 -> None\n",
      "1234 -> None\n"
     ]
    }
   ],
   "source": [
    "import re\n",
    "pattern = r'^\\d{1,3}(,\\d{3})*$'\n",
    "regexp = re.compile(pattern)\n",
    "for ele in ['42','1,234', '6,368,745','12,34,567','1234']:\n",
    "    print(ele, '->', regexp.search(ele))"
   ]
  },
  {
   "cell_type": "markdown",
   "id": "0ce68a7d",
   "metadata": {},
   "source": [
    "#### 21. How would you write a regex that matches the full name of someone whose last name is Watanabe? You can assume that the first name that comes before it will always be one word that begins with a capital letter. The regex must match the following:\n",
    "<br>&#39;Haruto Watanabe&#39;\n",
    "<br>&#39;Alice Watanabe&#39;\n",
    "<br>&#39;RoboCop Watanabe&#39;\n",
    "\n",
    "<br>but not the following:\n",
    "\n",
    "<br>&#39;haruto Watanabe&#39; (where the first name is not capitalized)\n",
    "<br>&#39;Mr. Watanabe&#39; (where the preceding word has a nonletter character)\n",
    "<br>&#39;Watanabe&#39; (which has no first name)\n",
    "<br>&#39;Haruto watanabe&#39; (where Watanabe is not capitalized)"
   ]
  },
  {
   "cell_type": "code",
   "execution_count": 31,
   "id": "5a18cca1",
   "metadata": {},
   "outputs": [
    {
     "name": "stdout",
     "output_type": "stream",
     "text": [
      "Haruto Watanabe -> <re.Match object; span=(0, 15), match='Haruto Watanabe'>\n",
      "Alice Watanabe -> <re.Match object; span=(0, 14), match='Alice Watanabe'>\n",
      "RoboCop Watanabe -> <re.Match object; span=(4, 16), match='Cop Watanabe'>\n",
      "haruto Watanabe -> None\n",
      "Mr. Watanabe -> None\n",
      "Watanabe -> None\n",
      "Haruto watanabe -> None\n"
     ]
    }
   ],
   "source": [
    "import re\n",
    "pattern = r'[A-Z]{1}[a-z]*\\sWatanabe'\n",
    "namexp = re.compile(pattern)\n",
    "for name in ['Haruto Watanabe','Alice Watanabe','RoboCop Watanabe','haruto Watanabe','Mr. Watanabe','Watanabe','Haruto watanabe']:\n",
    "    print(name,'->',namexp.search(name))"
   ]
  },
  {
   "cell_type": "markdown",
   "id": "87d5ea73",
   "metadata": {},
   "source": [
    "#### 22. How would you write a regex that matches a sentence where the first word is either Alice, Bob, or Carol; the second word is either eats, pets, or throws; the third word is apples, cats, or baseballs; and the sentence ends with a period? This regex should be case-insensitive. It must match the following:\n",
    "<br>&#39;Alice eats apples.&#39;\n",
    "<br>&#39;Bob pets cats.&#39;\n",
    "<br>&#39;Carol throws baseballs.&#39;\n",
    "<br>&#39;Alice throws Apples.&#39;\n",
    "<br>&#39;BOB EATS CATS.&#39;\n",
    "\n",
    "<br>but not the following:\n",
    "\n",
    "<br>&#39;RoboCop eats apples.&#39;\n",
    "<br>&#39;ALICE THROWS FOOTBALLS.&#39;\n",
    "<br>&#39;Carol eats 7 cats.&#39;"
   ]
  },
  {
   "cell_type": "code",
   "execution_count": 32,
   "id": "2a8e7e81",
   "metadata": {},
   "outputs": [
    {
     "name": "stdout",
     "output_type": "stream",
     "text": [
      "Alice eats apples. -> <re.Match object; span=(0, 18), match='Alice eats apples.'>\n",
      "Bob pets cats. -> <re.Match object; span=(0, 14), match='Bob pets cats.'>\n",
      "Carol throws baseballs. -> <re.Match object; span=(0, 23), match='Carol throws baseballs.'>\n",
      "Alice throws Apples. -> <re.Match object; span=(0, 20), match='Alice throws Apples.'>\n",
      "BOB EATS CATS. -> <re.Match object; span=(0, 14), match='BOB EATS CATS.'>\n",
      "RoboCop eats apples. -> None\n",
      "ALICE THROWS FOOTBALLS. -> None\n",
      "Carol eats 7 cats. -> None\n"
     ]
    }
   ],
   "source": [
    "import re\n",
    "pattern = r'(Alice|Bob|Carol)\\s(eats|pets|throws)\\s(apples|cats|baseballs)\\.'\n",
    "namexp = re.compile(pattern,re.IGNORECASE)\n",
    "for name in ['Alice eats apples.','Bob pets cats.','Carol throws baseballs.','Alice throws Apples.','BOB EATS CATS.','RoboCop eats apples.'\n",
    ",'ALICE THROWS FOOTBALLS.','Carol eats 7 cats.']:\n",
    "    print(name,'->',namexp.search(name))"
   ]
  },
  {
   "cell_type": "code",
   "execution_count": null,
   "id": "ce730894",
   "metadata": {},
   "outputs": [],
   "source": []
  }
 ],
 "metadata": {
  "kernelspec": {
   "display_name": "Python 3 (ipykernel)",
   "language": "python",
   "name": "python3"
  },
  "language_info": {
   "codemirror_mode": {
    "name": "ipython",
    "version": 3
   },
   "file_extension": ".py",
   "mimetype": "text/x-python",
   "name": "python",
   "nbconvert_exporter": "python",
   "pygments_lexer": "ipython3",
   "version": "3.9.7"
  }
 },
 "nbformat": 4,
 "nbformat_minor": 5
}
