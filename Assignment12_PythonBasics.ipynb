{
 "cells": [
  {
   "cell_type": "markdown",
   "id": "11b10633",
   "metadata": {},
   "source": [
    "#### 1. In what modes should the PdfFileReader() and PdfFileWriter() File objects will be opened?"
   ]
  },
  {
   "cell_type": "markdown",
   "id": "cd3efd2f",
   "metadata": {},
   "source": [
    "<b>Ans: PdfFileReader()</b>  needs to be opened in <b> read-binary mode by passing 'rb' as the second argument to open()</b> . Likewise, the File object passed to PyPDF2. \n",
    "<br><b>PdfFileWriter()</b> needs to be opened in <b> write-binary mode with 'wb'</b> ."
   ]
  },
  {
   "cell_type": "markdown",
   "id": "cb79b33a",
   "metadata": {},
   "source": [
    "#### 2. From a PdfFileReader object, how do you get a Page object for page 5?"
   ]
  },
  {
   "cell_type": "markdown",
   "id": "ee950212",
   "metadata": {},
   "source": [
    "<b>Ans:</b> To extract text from a page, we need to get a Page object, which represents a single page of a PDF, from a PdfFileReader object. we can get a Page object by calling the <b>getPage(PageNumber)</b> method on a PdfFileReader object and passing it the page number of the page you're interested in—in our case, 5."
   ]
  },
  {
   "cell_type": "code",
   "execution_count": null,
   "id": "4412c875",
   "metadata": {},
   "outputs": [],
   "source": [
    "from PyPDF2 import PdfFileReader\n",
    "pdf_reader = PdfFileReader(file_path)\n",
    "for page in pdf_reader.getNumPages():\n",
    "    pdf_reader.getPage(page)"
   ]
  },
  {
   "cell_type": "markdown",
   "id": "49f70a12",
   "metadata": {},
   "source": [
    "#### 3. What PdfFileReader variable stores the number of pages in the PDF document?"
   ]
  },
  {
   "cell_type": "markdown",
   "id": "082db054",
   "metadata": {},
   "source": [
    "<b>Ans: PdfFileReader</b> class has a method called <b>getNumPages()</b> which stores the number of pages in a PDF document."
   ]
  },
  {
   "cell_type": "code",
   "execution_count": null,
   "id": "1bfe8aea",
   "metadata": {},
   "outputs": [],
   "source": [
    "from PyPDF2 import PdfFileReader\n",
    "pdf_reader = PdfFileReader(open(\"file.pdf\"))\n",
    "print(pdf_reader.getNumPages())"
   ]
  },
  {
   "cell_type": "markdown",
   "id": "087264f0",
   "metadata": {},
   "source": [
    "#### 4. If a PdfFileReader object’s PDF is encrypted with the password swordfish, what must you do before you can obtain Page objects from it?"
   ]
  },
  {
   "cell_type": "markdown",
   "id": "4bc379e4",
   "metadata": {},
   "source": [
    "<b>Ans:</b> If a PdfFileReader object’s PDF is encrypted with the password <b>swordfish</b>,first we obtain the object of <b>PdfFileReader</b> class.All PdfFileReader objects have an <b>isEncrypted</b> attribute that is <b>True if the PDF is encrypted</b> and <b>False if it isn’t</b>. Any attempt to call a function that reads the file before it has been decrypted with the correct password will result in an error <b>PyPDF2.utils.PdfReadError: file has not been decrypted</b>.\n",
    "<br> If pdf is encrypted use the <b>decrypt()</b> method provided by PdfFileReader class first then try to read the contents or pages of the pdf."
   ]
  },
  {
   "cell_type": "code",
   "execution_count": null,
   "id": "7b76cdc7",
   "metadata": {},
   "outputs": [],
   "source": [
    "from PyPDF2 import PdfFileReader\n",
    "pdf_reader = PdfFileReader(file_path)\n",
    "if pdf_reader.isEncrypted: # to check whether the pdf is encrypted or not\n",
    "    pdf_reader.decrypt(\"swordfish\")\n"
   ]
  },
  {
   "cell_type": "markdown",
   "id": "077642ba",
   "metadata": {},
   "source": [
    "#### 5. What methods do you use to rotate a page?"
   ]
  },
  {
   "cell_type": "markdown",
   "id": "19203e22",
   "metadata": {},
   "source": [
    "<b>Ans:</b> PyPDF2 Package provides 2 methods to rotate a page:\n",
    "\n",
    "1. <b>rotateClockWise()</b> :- For Clockwise rotation\n",
    "2. <b>rotateCounterClockWise()</b> :- For Counter Clockwise rotation\n"
   ]
  },
  {
   "cell_type": "code",
   "execution_count": null,
   "id": "5b544133",
   "metadata": {},
   "outputs": [],
   "source": [
    "import PyPDF2\n",
    "\n",
    "    pdf_in = open('original.pdf', 'rb')\n",
    "    pdf_reader = PyPDF2.PdfFileReader(pdf_in)\n",
    "    pdf_writer = PyPDF2.PdfFileWriter()\n",
    "\n",
    "    for pagenum in range(pdf_reader.numPages):\n",
    "        page = pdf_reader.getPage(pagenum)\n",
    "        page.rotateClockwise(180)\n",
    "        pdf_writer.addPage(page)\n",
    "\n",
    "    pdf_out = open('rotated.pdf', 'wb')\n",
    "    pdf_writer.write(pdf_out)\n",
    "    pdf_out.close()\n",
    "    pdf_in.close()\n"
   ]
  },
  {
   "cell_type": "markdown",
   "id": "b214fc06",
   "metadata": {},
   "source": [
    "#### 6. What is the difference between a Run object and a Paragraph object?"
   ]
  },
  {
   "cell_type": "markdown",
   "id": "6092dc1e",
   "metadata": {},
   "source": [
    "<b>Ans:</b>The structure of a document is represented by three different data types in <b>python-Docx</b>.The Document object contains a <b>list of Paragraph objects</b> for the paragraphs in the document.<b>Each of these Paragraph objects contains a list of one or more Run objects</b>.\n",
    "<br> -  A run is the object most closely associated with inline content; text, pictures, and other items that are flowed between the block-item boundaries within a paragraph.It is a contiguous run of text with the same style. A new Run object is needed whenever the text style changes."
   ]
  },
  {
   "cell_type": "markdown",
   "id": "72971faa",
   "metadata": {},
   "source": [
    "#### 7. How do you obtain a list of Paragraph objects for a Document object that’s stored in a variable named doc?"
   ]
  },
  {
   "cell_type": "code",
   "execution_count": null,
   "id": "92425e7c",
   "metadata": {},
   "outputs": [],
   "source": [
    "from docx import Document\n",
    "worddoc = Document(\"file.docx\") # Path of the Docx file\n",
    "print(worddoc.paragraphs) # Prints the list of Paragraph objects for a Document\n",
    "for paragraph in worddoc.paragraphs:\n",
    "    print(paragraph.text) # Prints the text in the paragraph"
   ]
  },
  {
   "cell_type": "markdown",
   "id": "a808edf9",
   "metadata": {},
   "source": [
    "#### 8. What type of object has bold, underline, italic, strike, and outline variables?"
   ]
  },
  {
   "cell_type": "markdown",
   "id": "e47b35d4",
   "metadata": {},
   "source": [
    "<b>Ans:</b>bold, underline, italic, strike, and outline variables are <b>Run</b> object.\n",
    "<br>- A run is the object most closely associated with inline content; text, pictures, and other items that are flowed between the block-item boundaries within a paragraph."
   ]
  },
  {
   "cell_type": "markdown",
   "id": "c6ad04bd",
   "metadata": {},
   "source": [
    "#### 9. What is the difference between False, True, and None for the bold variable?"
   ]
  },
  {
   "cell_type": "markdown",
   "id": "16f1b6d0",
   "metadata": {},
   "source": [
    "<b>Ans:</b><br><b>bold = True</b>  # Style Set to Bold\n",
    "<br><b>bold = False</b> # Style Not Set to Bold\n",
    "<br><b>bold = None</b> # Style is Not Applicable"
   ]
  },
  {
   "cell_type": "markdown",
   "id": "95c39d9f",
   "metadata": {},
   "source": [
    "#### 10. How do you create a Document object for a new Word document?"
   ]
  },
  {
   "cell_type": "code",
   "execution_count": null,
   "id": "64b63cf8",
   "metadata": {},
   "outputs": [],
   "source": [
    "import docx\n",
    "doc = docx.Document()\n",
    "doc.add_paragraph('Hello, world!')\n",
    "doc.save('helloworld.docx')"
   ]
  },
  {
   "cell_type": "markdown",
   "id": "0af9b1dd",
   "metadata": {},
   "source": [
    "#### 11. How do you add a paragraph with the text &#39;Hello, there!&#39; to a Document object stored in a variable named doc?"
   ]
  },
  {
   "cell_type": "code",
   "execution_count": null,
   "id": "c1f80de4",
   "metadata": {},
   "outputs": [],
   "source": [
    "import docx\n",
    "doc = docx.Document()\n",
    "doc.add_paragraph('Hello, there!')\n",
    "doc.save('hellothere.docx')"
   ]
  },
  {
   "cell_type": "markdown",
   "id": "e071aca0",
   "metadata": {},
   "source": [
    "#### 12. What integers represent the levels of headings available in Word documents?"
   ]
  },
  {
   "cell_type": "markdown",
   "id": "7834682e",
   "metadata": {},
   "source": [
    "<b>Ans:</b> The levels for a heading in a word document can be specified by using the <b>level</b> attribute inside the <b>add_heading</b> method. There are a total of <b>5 levels</b> starting from 0 to 4. where level 0 makes a headline with the horizontal line below the text, whereas the heading level 1 is the main heading. Similarly, the other headings are sub-heading with their's font-sizes in decreasing order."
   ]
  },
  {
   "cell_type": "code",
   "execution_count": null,
   "id": "eeb17946",
   "metadata": {},
   "outputs": [],
   "source": []
  }
 ],
 "metadata": {
  "kernelspec": {
   "display_name": "Python 3 (ipykernel)",
   "language": "python",
   "name": "python3"
  },
  "language_info": {
   "codemirror_mode": {
    "name": "ipython",
    "version": 3
   },
   "file_extension": ".py",
   "mimetype": "text/x-python",
   "name": "python",
   "nbconvert_exporter": "python",
   "pygments_lexer": "ipython3",
   "version": "3.9.7"
  }
 },
 "nbformat": 4,
 "nbformat_minor": 5
}
