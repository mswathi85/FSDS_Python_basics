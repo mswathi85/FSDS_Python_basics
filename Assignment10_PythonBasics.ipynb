{
 "cells": [
  {
   "cell_type": "markdown",
   "id": "11a89167",
   "metadata": {},
   "source": [
    "#### 1. How do you distinguish between shutil.copy() and shutil.copytree()?"
   ]
  },
  {
   "cell_type": "markdown",
   "id": "e4a211b8",
   "metadata": {},
   "source": [
    "<b> Ans:   shutil.copy()</b> method is used to copy the contents of a file from one file to another file/folder, it takes two arguments (src,dest), src represents the file to be copied where as destination refers to the file/folder to where the src data should be copied, if dest is a folder name the src with exact name will be copied to the dest folder, if its a file then the contents of src will be copied to dest where dest retains it name.\n",
    "\n",
    "<br><b>shutil.copytree()</b> function is used to copy the entire contents of a folder to other folder. it also takes two arguments (src & dest), it copies all the content recursively and stores it in dest. the important catch here is dest must not exist prior to this and it will be created during the copy operation. Permissions and times of directories are copied with shutil.copystat() and individual files are copied using shutil.copy2() by default which can be modified using copy_function attribute."
   ]
  },
  {
   "cell_type": "markdown",
   "id": "3ecca9ba",
   "metadata": {},
   "source": [
    "#### 2. What function is used to rename files?"
   ]
  },
  {
   "cell_type": "markdown",
   "id": "0e1b57ab",
   "metadata": {},
   "source": [
    "<b> Ans:  os.rename()</b> function is used to rename files or directories using a python program, this function takes two arguments (src and dest), src represents the name of the file/directory which we want to rename, whereas dest represents the new name of the file/directory."
   ]
  },
  {
   "cell_type": "markdown",
   "id": "f555e252",
   "metadata": {},
   "source": [
    "#### 3. What is the difference between the delete functions in the send2trash and shutil modules?"
   ]
  },
  {
   "cell_type": "markdown",
   "id": "b2b1b3d7",
   "metadata": {},
   "source": [
    "<b> Ans: </b>Shutil module provides a funciton called as <b>shutil.rmtree() which deletes a directory and all its contents</b>. The other functions with similar functionality are <b>os.remove() -> removes a file, os.rmdir() removes a empty directory</b>. <b>The problem with these functions is once a file is deleted. it will be lost permanently, if a file is deleted accidentally using these methods there is no way we can recover the deleted file</b>\n",
    "\n",
    "Where as send2trash module provides a function called <b>send2trash.send2trash() to delete a file/directory</b>. <b>These methods moves the files/directories to trash folder instead of permanently deleting them</b>. Hence if a file/folder is deleted accidentally it can be still recovered from trash folder, if is deleted using the send2trash.send2trash() function. send2trash is not included with python standard libary like os & shutil modules. it needs to be installed explicitly using the command <b/>!pip install send2trash"
   ]
  },
  {
   "cell_type": "markdown",
   "id": "d11619fd",
   "metadata": {},
   "source": [
    "#### 4.ZipFile objects have a close() method just like File objects’ close() method. What ZipFile method is equivalent to File objects’ open() method?"
   ]
  },
  {
   "cell_type": "markdown",
   "id": "dded74ae",
   "metadata": {},
   "source": [
    "<b> Ans: </b> Ans: ZipFile Module provides a method called as <b>zipfile.ZipFile() to read and write to zipFiles</b>. It takes arugments lile filename and mode etc <b/>zipfile.ZipFile('filename', mode = 'r')"
   ]
  },
  {
   "cell_type": "markdown",
   "id": "954708e0",
   "metadata": {},
   "source": [
    "#### 5. Create a programme that searches a folder tree for files with a certain file extension (such as .pdf or .jpg). Copy these files from whatever location they are in to a new folder."
   ]
  },
  {
   "cell_type": "code",
   "execution_count": 7,
   "id": "931d7146",
   "metadata": {},
   "outputs": [
    {
     "name": "stdout",
     "output_type": "stream",
     "text": [
      "Folder Name ➞ G:\\Feature-Engineering-master\n",
      "\n",
      "Sub Folders ➞ []\n",
      "\n",
      "Files ➞ ['02.1_Numerical_variables.ipynb', '02.2_Categorical_variables.ipynb', '02.3_Dates.ipynb', '02.4_Mixed_variables.ipynb', '02.5_Bonus_Learn_more_on_Lending_Club_dataset.ipynb', '03.1_Missing_values.ipynb', '03.2_Outliers.ipynb', '03.3_Labels.ipynb', '03.4_Rare_values.ipynb', '03.5_Bonus_Machine_Learning_Algorithms_Overview.ipynb', '03.6_Bonus_Additional_reading_resources_on_variable_problems.ipynb', '04.1_Variable_magnitude.ipynb', '04.2_Linear_assumption.ipynb', '04.3_Variable_distribution.ipynb', '04.4_Bonus_Additional_reading_resources.ipynb', '05.1_Complete_Case_Analysis.ipynb', '05.2_Mean_and_median_imputation.ipynb', '05.3_Random_sample_imputation.ipynb', '05.4_Adding_a_variable_to_capture_NA.ipynb', '05.5_End_of_distribution_imputation.ipynb', '05.6_Arbitrary_value_imputation.ipynb', '06.1_Frequent_category_imputation.ipynb', '06.2_Random_sample_imputation.ipynb', '06.3_Adding_a_variable_to_capture_NA.ipynb', '06.4_Adding_a_category_to_capture_NA.ipynb', '07.1_Bonus_Overview_of_missing_ value_imputation_methods.ipynb', '07.2_Conclusion_when_to_use_each_NA_imputation_methods.ipynb', '08.1_Top_coding_bottom_coding_and_zero_coding.ipynb', '09.1_Engineering_rare_values_1.ipynb', '09.2_Engineering_rare_values_2.ipynb', '09.3_Engineering_rare_values_3.ipynb', '09.4_Engineering_rare_values.ipynb', '10.10_Bonus_Additional_reading_resources.ipynb', '10.1_One_hot_encoding.ipynb', '10.2_One_hot_encoding_variables_with_many_labels.ipynb', '10.3_Ordinal_numbering_encoding.ipynb', '10.4_Count_or_frequency_encoding.ipynb', '10.5_Target_guided_ordinal_encoding.ipynb', '10.6_Mean_encoding.ipynb', '10.7_Probability_ratio_encoding.ipynb', '10.8_Weight_of_evidence_WOE.ipynb', '10.9_Comparison_of_categorical_variable_encoding.ipynb', '11.1_Engineering_mixed_variables.ipynb', '12.1_Engineering_dates.ipynb', '13.1_Normalisation-Standarisation.ipynb', '13.2_Scaling_to_minimum_and_maximum_values.ipynb', '13.3_Scaling_to_median_and_quantiles.ipynb', '14.1_Gaussian_transformations.ipynb', '15.1_Equal_frequency_discretisation.ipynb', '15.2_Equal_width_discretisation.ipynb', '15.3_Domain_knowledge_discretisation.ipynb', '15.4_Discretisation_with_Decision_Trees.ipynb', '15.5_Bonus_Additional_reading_resources.ipynb', '16.2_Classification_I.ipynb', '16.3_Regression.ipynb', 'README.md']\n",
      "\n",
      "Files copied successfully from G:\\Feature-Engineering-master to G:\\Krish_Tutorials\n"
     ]
    }
   ],
   "source": [
    "import os\n",
    "import shutil\n",
    "\n",
    "def search_and_copy(source,destination,extensions):\n",
    "    source = os.path.abspath(source)\n",
    "    destination = os.path.abspath(destination)\n",
    "    for foldername, subfolder, filenames in os.walk(source):\n",
    "        print(f'Folder Name ➞ {foldername}',end='\\n\\n')\n",
    "        print(f'Sub Folders ➞ {subfolder}',end='\\n\\n')\n",
    "        print(f'Files ➞ {filenames}',end='\\n\\n')\n",
    "        for filename in filenames:\n",
    "            fileName,extension = os.path.splitext(filename)\n",
    "            if extension in extensions:\n",
    "                targetFile = foldername+os.path.sep+fileName+extension\n",
    "                shutil.copy(targetFile, destination)\n",
    "        print(f'Files copied successfully from {source} to {destination}')\n",
    "    \n",
    "extensions = ['.pdf','.jpg','.ipynb']\n",
    "source = 'G:\\Feature-Engineering-master'\n",
    "destination = 'G:\\Krish_Tutorials'\n",
    "search_and_copy(source, destination, extensions)"
   ]
  },
  {
   "cell_type": "code",
   "execution_count": null,
   "id": "120fc658",
   "metadata": {},
   "outputs": [],
   "source": []
  }
 ],
 "metadata": {
  "kernelspec": {
   "display_name": "Python 3 (ipykernel)",
   "language": "python",
   "name": "python3"
  },
  "language_info": {
   "codemirror_mode": {
    "name": "ipython",
    "version": 3
   },
   "file_extension": ".py",
   "mimetype": "text/x-python",
   "name": "python",
   "nbconvert_exporter": "python",
   "pygments_lexer": "ipython3",
   "version": "3.9.7"
  }
 },
 "nbformat": 4,
 "nbformat_minor": 5
}
