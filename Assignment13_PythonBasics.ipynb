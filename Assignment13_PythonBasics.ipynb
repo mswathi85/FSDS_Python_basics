{
 "cells": [
  {
   "cell_type": "markdown",
   "id": "3fb12487",
   "metadata": {},
   "source": [
    "#### 1. What advantages do Excel spreadsheets have over CSV spreadsheets?"
   ]
  },
  {
   "cell_type": "markdown",
   "id": "8f50e70f",
   "metadata": {},
   "source": [
    "<b>Ans:</b> The advantages of Excel over Csv is:\n",
    "1. CSV format is a plain text format in which values are separated by commas (Comma Separated Values)\n",
    "2. XLS file format is an Excel Sheets binary file format which holds information about all the worksheets in a file, including both content and formatting.\n",
    "3. Excel also allows the user the add-in feature.\n",
    "        "
   ]
  },
  {
   "cell_type": "markdown",
   "id": "fc4095f4",
   "metadata": {},
   "source": [
    "#### 2.What do you pass to csv.reader() and csv.writer() to create reader and writer objects?"
   ]
  },
  {
   "cell_type": "code",
   "execution_count": 8,
   "id": "189f8ec9",
   "metadata": {},
   "outputs": [],
   "source": [
    "#To write into a file\n",
    "import csv\n",
    "csv_rowlist = [['Name', 'Age', 'Profession'],['Jack', 23, 'Doctor'],['Miller', '22', 'Engineer']]\n",
    "with open('people.csv', 'w') as file:\n",
    "    writer = csv.writer(file)\n",
    "    writer.writerows(csv_rowlist)"
   ]
  },
  {
   "cell_type": "code",
   "execution_count": 9,
   "id": "5a589d13",
   "metadata": {},
   "outputs": [
    {
     "name": "stdout",
     "output_type": "stream",
     "text": [
      "['Name,Age,Profession']\n",
      "[]\n",
      "['Jack,23,Doctor']\n",
      "[]\n",
      "['Miller,22,Engineer']\n",
      "[]\n"
     ]
    }
   ],
   "source": [
    "# To read a file\n",
    "with open('people.csv', 'r') as file:\n",
    "    reader = csv.reader(file, delimiter= '\\t')\n",
    "    for row in reader:\n",
    "        print(row)"
   ]
  },
  {
   "cell_type": "markdown",
   "id": "98a49ef1",
   "metadata": {},
   "source": [
    "#### 3. What modes do File objects for reader and writer objects need to be opened in?"
   ]
  },
  {
   "cell_type": "markdown",
   "id": "39cbcdba",
   "metadata": {},
   "source": [
    "<b>Ans:</b>For <b>csv.reader(iterable_file_object)</b>, the file objects needed to be opened in <b>read mode ('r')</b> , Whereas for <b>csv.writer(iterable_file_object)</b> the file objects needed to be opened in <b>write mode ('w')</b>"
   ]
  },
  {
   "cell_type": "markdown",
   "id": "1454cac0",
   "metadata": {},
   "source": [
    "#### 4. What method takes a list argument and writes it to a CSV file?"
   ]
  },
  {
   "cell_type": "markdown",
   "id": "b88ad055",
   "metadata": {},
   "source": [
    "<b>Ans:</b> There are <b>writerow() and writerows()</b>. \n",
    "1. writerow() method writes a single row at a time.\n",
    "2. writerows() method is used to write multiple rows at a time."
   ]
  },
  {
   "cell_type": "code",
   "execution_count": 11,
   "id": "d09cad15",
   "metadata": {},
   "outputs": [],
   "source": [
    "import csv\n",
    "column = ['Name', 'Age', 'Profession'] \n",
    "csv_rowlist = [['Jack', 23, 'Doctor'],['Miller', '22', 'Engineer']]\n",
    "with open('people.csv', 'w') as file:\n",
    "    writer = csv.writer(file)\n",
    "    writer.writerow(column)\n",
    "    writer.writerows(csv_rowlist)"
   ]
  },
  {
   "cell_type": "markdown",
   "id": "3fe7562d",
   "metadata": {},
   "source": [
    "#### 5. What do the keyword arguments delimiter and line terminator do?"
   ]
  },
  {
   "cell_type": "markdown",
   "id": "c4a5d07f",
   "metadata": {},
   "source": [
    "<b>Ans:</b>  The delimiter is the character that appears between cells on a row. \n",
    "<br>By default, the `delimiter for a CSV file` is a `comma`(,). \n",
    "<br> The `line terminator` is the `character that comes at the end of a row`. By default, the `line terminator is a newline`(\\n). \n",
    "<br>You can change characters to different values by using the delimiter and lineterminator keyword arguments with `csv.writer()`."
   ]
  },
  {
   "cell_type": "markdown",
   "id": "b28c0f5d",
   "metadata": {},
   "source": [
    "#### 6. What function takes a string of JSON data and returns a Python data structure?"
   ]
  },
  {
   "cell_type": "markdown",
   "id": "955bcc2f",
   "metadata": {},
   "source": [
    "<b>Ans:</b> `loads()` method return Python data structure of JSON string or data.\n",
    "    "
   ]
  },
  {
   "cell_type": "code",
   "execution_count": 12,
   "id": "a3be24a4",
   "metadata": {},
   "outputs": [
    {
     "name": "stdout",
     "output_type": "stream",
     "text": [
      "{\"alpha\":1, \"beta\":2}\n",
      "The type of the file is <class 'str'>\n",
      "{'alpha': 1, 'beta': 2}\n",
      "The type of the file is <class 'dict'>\n"
     ]
    }
   ],
   "source": [
    "import json\n",
    "\n",
    "file = '''{\"alpha\":1, \"beta\":2}'''\n",
    "print(file)\n",
    "print(f'The type of the file is {type(file)}')\n",
    "file_new = json.loads(file)\n",
    "print(file_new)\n",
    "print(f'The type of the file is {type(file_new)}')\n"
   ]
  },
  {
   "cell_type": "markdown",
   "id": "597dc456",
   "metadata": {},
   "source": [
    "#### 7. What function takes a Python data structure and returns a string of JSON data?"
   ]
  },
  {
   "cell_type": "markdown",
   "id": "64d8b391",
   "metadata": {},
   "source": [
    "<b>Ans:</b> `dumps()` method takes a python data structure and returns a string of JSON data"
   ]
  },
  {
   "cell_type": "code",
   "execution_count": 13,
   "id": "6db7c5e0",
   "metadata": {},
   "outputs": [
    {
     "name": "stdout",
     "output_type": "stream",
     "text": [
      "{'alpha': 1, 'beta': 2}\n",
      "The type of the file is <class 'dict'>\n",
      "{\"alpha\": 1, \"beta\": 2}\n",
      "The type of the file is <class 'str'>\n"
     ]
    }
   ],
   "source": [
    "import json\n",
    "\n",
    "file = {\"alpha\":1, \"beta\":2}\n",
    "print(file)\n",
    "print(f'The type of the file is {type(file)}')\n",
    "file_new = json.dumps(file)\n",
    "print(file_new)\n",
    "print(f'The type of the file is {type(file_new)}')\n"
   ]
  },
  {
   "cell_type": "code",
   "execution_count": null,
   "id": "b7cf46af",
   "metadata": {},
   "outputs": [],
   "source": []
  }
 ],
 "metadata": {
  "kernelspec": {
   "display_name": "Python 3 (ipykernel)",
   "language": "python",
   "name": "python3"
  },
  "language_info": {
   "codemirror_mode": {
    "name": "ipython",
    "version": 3
   },
   "file_extension": ".py",
   "mimetype": "text/x-python",
   "name": "python",
   "nbconvert_exporter": "python",
   "pygments_lexer": "ipython3",
   "version": "3.9.7"
  }
 },
 "nbformat": 4,
 "nbformat_minor": 5
}
