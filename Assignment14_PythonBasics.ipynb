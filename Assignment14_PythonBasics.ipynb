{
 "cells": [
  {
   "cell_type": "markdown",
   "id": "d79003ef",
   "metadata": {},
   "source": [
    "#### 1. What does RGBA stand for?"
   ]
  },
  {
   "cell_type": "markdown",
   "id": "8765b7b3",
   "metadata": {},
   "source": [
    "<b>Ans: RGBA</b> stands for `Red, Green, Blue, Alpha` values. Alpha represents Opacity."
   ]
  },
  {
   "cell_type": "markdown",
   "id": "fb05284f",
   "metadata": {},
   "source": [
    "#### 2. From the Pillow module, how do you get the RGBA value of any images?"
   ]
  },
  {
   "cell_type": "markdown",
   "id": "f519364d",
   "metadata": {},
   "source": [
    "<b>Ans:ImageColor.getcolor()</b> gives rgba value of any image."
   ]
  },
  {
   "cell_type": "markdown",
   "id": "49ce56e5",
   "metadata": {},
   "source": [
    "#### 3. What is a box tuple, and how does it work?"
   ]
  },
  {
   "cell_type": "markdown",
   "id": "c282fb89",
   "metadata": {},
   "source": [
    "<b>Ans:</b> A box tuple is a tuple value of four integers: `the left-edge is x-coordinate, the top-edge is y-coordinate,the width, and the height`, respectively."
   ]
  },
  {
   "cell_type": "markdown",
   "id": "b1439189",
   "metadata": {},
   "source": [
    "#### 4. Use your image and load in notebook then, How can you find out the width and height of an Image object?"
   ]
  },
  {
   "cell_type": "code",
   "execution_count": 3,
   "id": "4457ad30",
   "metadata": {},
   "outputs": [
    {
     "name": "stdout",
     "output_type": "stream",
     "text": [
      "Width, Height -> 658,866\n"
     ]
    }
   ],
   "source": [
    "from PIL import Image\n",
    "pic = Image.open('baby.jpg')\n",
    "\n",
    "print(f'Width, Height -> {pic.width},{pic.height}')\n"
   ]
  },
  {
   "cell_type": "markdown",
   "id": "7c8d2e60",
   "metadata": {},
   "source": [
    "#### 5. What method would you call to get Image object for a 100×100 image, excluding the lower-left quarter of it?"
   ]
  },
  {
   "cell_type": "code",
   "execution_count": 4,
   "id": "6363e80c",
   "metadata": {},
   "outputs": [],
   "source": [
    "from PIL import Image\n",
    "pic = Image.open('baby.jpg')\n",
    "new_pic = pic.crop((0,50,50,50))"
   ]
  },
  {
   "cell_type": "markdown",
   "id": "f786dc7b",
   "metadata": {},
   "source": [
    "#### 6. After making changes to an Image object, how could you save it as an image file?"
   ]
  },
  {
   "cell_type": "code",
   "execution_count": 5,
   "id": "3abc7c22",
   "metadata": {},
   "outputs": [],
   "source": [
    "from PIL import Image\n",
    "pic = Image.open('baby.jpg')\n",
    "pic.save('pic1.jpg')"
   ]
  },
  {
   "cell_type": "markdown",
   "id": "fc53de71",
   "metadata": {},
   "source": [
    "#### 7. What module contains Pillow’s shape-drawing code?"
   ]
  },
  {
   "cell_type": "markdown",
   "id": "c3784205",
   "metadata": {},
   "source": [
    "<b>Ans: ImageDraw</b> module contains Shape drawing methods."
   ]
  },
  {
   "cell_type": "markdown",
   "id": "af6116d9",
   "metadata": {},
   "source": [
    "#### 8. Image objects do not have drawing methods. What kind of object does? How do you get this kind of object?"
   ]
  },
  {
   "cell_type": "markdown",
   "id": "e7fc71f8",
   "metadata": {},
   "source": [
    "<b>Ans:</b> `ImageDraw` objects have shape-drawing methods such as `point(), line(), rectangle()`.They are returned by passing the Image object to the `ImageDraw.Draw()` function."
   ]
  },
  {
   "cell_type": "code",
   "execution_count": null,
   "id": "31d4db1c",
   "metadata": {},
   "outputs": [],
   "source": []
  }
 ],
 "metadata": {
  "kernelspec": {
   "display_name": "Python 3 (ipykernel)",
   "language": "python",
   "name": "python3"
  },
  "language_info": {
   "codemirror_mode": {
    "name": "ipython",
    "version": 3
   },
   "file_extension": ".py",
   "mimetype": "text/x-python",
   "name": "python",
   "nbconvert_exporter": "python",
   "pygments_lexer": "ipython3",
   "version": "3.9.7"
  }
 },
 "nbformat": 4,
 "nbformat_minor": 5
}
