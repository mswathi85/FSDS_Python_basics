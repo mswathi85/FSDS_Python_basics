{
 "cells": [
  {
   "cell_type": "markdown",
   "id": "3ccf27f4",
   "metadata": {},
   "source": [
    "#### 1. Is the Python Standard Library included with PyInputPlus?"
   ]
  },
  {
   "cell_type": "markdown",
   "id": "6d92e929",
   "metadata": {},
   "source": [
    "<b> Ans: </b> No, <b>PyInputPlus</b> is not a part of Python Standard Library, it needs to be installed explicitly using the command <b/>!pip install PyInputPlus"
   ]
  },
  {
   "cell_type": "markdown",
   "id": "4ba3f550",
   "metadata": {},
   "source": [
    "#### 2. Why is PyInputPlus commonly imported with import pyinputplus as pypi?"
   ]
  },
  {
   "cell_type": "markdown",
   "id": "6596cc2a",
   "metadata": {},
   "source": [
    "<b> Ans: </b> We can import the module with <b>import pyinputplus as pyip</b> so that we can enter a shorter name when we are calling the module's functions."
   ]
  },
  {
   "cell_type": "markdown",
   "id": "f1be1500",
   "metadata": {},
   "source": [
    "#### 3. How do you distinguish between inputInt() and inputFloat()?"
   ]
  },
  {
   "cell_type": "markdown",
   "id": "290c6293",
   "metadata": {},
   "source": [
    "<b> Ans:  inputInt()</b> function Accepts an <b>integer value</b>. This also takes additional parameters <b>min, max, greaterThan and lessThan</b> for bounds.  It always returns an int.\n",
    "\n",
    "Whereas <b>inputFloat()</b> function Accepts a <b>floating-point numeric value</b>. This also takes additional <b>min, max, greaterThan and lessThan</b> parameters. It always returns a float."
   ]
  },
  {
   "cell_type": "markdown",
   "id": "68679fc0",
   "metadata": {},
   "source": [
    "#### 4. Using PyInputPlus, how do you ensure that the user enters a whole number between 0 and 99?"
   ]
  },
  {
   "cell_type": "markdown",
   "id": "2c38f267",
   "metadata": {},
   "source": [
    "<b> Ans:  PyInputPlus</b> module provides a function called as <b>inputInt()</b> which only returns only integer values. Inorder to restrict the input between 0 and 99, it will use parameters like <b>min</b> & <b>max</b> to ensure that user enters the values between the defined range only."
   ]
  },
  {
   "cell_type": "code",
   "execution_count": 8,
   "id": "7f09f730",
   "metadata": {},
   "outputs": [
    {
     "name": "stdout",
     "output_type": "stream",
     "text": [
      "Enter a number: -1\n",
      "Number must be at minimum 0.\n",
      "Enter a number: 101\n",
      "Number must be at maximum 100.\n",
      "Enter a number: 25\n",
      "25 is a whole number \n"
     ]
    }
   ],
   "source": [
    "import pyinputplus as pyip\n",
    "number = pyip.inputInt(prompt='Enter a number: ', min=0, max=100)\n",
    "print(f\"{number} is a whole number \")"
   ]
  },
  {
   "cell_type": "markdown",
   "id": "3744d005",
   "metadata": {},
   "source": [
    "#### 5. What is transferred to the keyword arguments allowRegexes and blockRegexes?"
   ]
  },
  {
   "cell_type": "markdown",
   "id": "2d744430",
   "metadata": {},
   "source": [
    "<b> Ans: </b> we can use <b>allowRegexes</b> and <b>blockRegexes</b> keyword arguments to take list of regular expression strings to determine what the pyinputplus function will reject or accept valid input."
   ]
  },
  {
   "cell_type": "markdown",
   "id": "d30af587",
   "metadata": {},
   "source": [
    "#### 6. If a blank input is entered three times, what does inputStr(limit=3) do?"
   ]
  },
  {
   "cell_type": "markdown",
   "id": "666e5a24",
   "metadata": {},
   "source": [
    "<b> Ans: </b> The statement <b>inputStr(limit=3)</b> will throw two exceptions <b>ValidationException and RetryLimitException</b>. The first exception is thrown because blank values are not allowed by <b>inputStr()</b> function by default. If we want to consider blank values as valid input, we have to set <b/>blank=True.\n",
    "\n",
    "The second exception is occured because we have reached the max limit we have specified by using <b>limit</b> parameter. Inorder to avoid this exception we can use default parameter to return a default value when max limit is reached."
   ]
  },
  {
   "cell_type": "markdown",
   "id": "e1d8c791",
   "metadata": {},
   "source": [
    "#### 7. If blank input is entered three times, what does inputStr(limit=3, default=&#39;hello&#39;) do?"
   ]
  },
  {
   "cell_type": "markdown",
   "id": "04156c1f",
   "metadata": {},
   "source": [
    "<b> Ans: </b> Since the default parameter is set to hello. After blank input is entered three times instead of raising <b>RetryLimitException</b> exception. the function will return hello as response to the calling function"
   ]
  },
  {
   "cell_type": "code",
   "execution_count": null,
   "id": "742ce890",
   "metadata": {},
   "outputs": [],
   "source": []
  }
 ],
 "metadata": {
  "kernelspec": {
   "display_name": "Python 3 (ipykernel)",
   "language": "python",
   "name": "python3"
  },
  "language_info": {
   "codemirror_mode": {
    "name": "ipython",
    "version": 3
   },
   "file_extension": ".py",
   "mimetype": "text/x-python",
   "name": "python",
   "nbconvert_exporter": "python",
   "pygments_lexer": "ipython3",
   "version": "3.9.7"
  }
 },
 "nbformat": 4,
 "nbformat_minor": 5
}
