{
 "cells": [
  {
   "cell_type": "markdown",
   "id": "32cf08e8",
   "metadata": {},
   "source": [
    "#### 1. To what does a relative path refer?"
   ]
  },
  {
   "cell_type": "markdown",
   "id": "f684b76a",
   "metadata": {},
   "source": [
    "<b>Ans:</b> The relative path is the path to some file with respect to your current working directory (PWD).\n",
    "<br><b>For example:</b> if Absolute path to a file called ex.txt is: C:/users/admin/docs/ex.txt \n",
    "<br> If my PWD is C:/users/admin/ , then the relative path to stuff.txt would be: docs/ex.txt\n",
    "<br><b/>Note: PWD + relative path = absolute path"
   ]
  },
  {
   "cell_type": "markdown",
   "id": "22cdaeeb",
   "metadata": {},
   "source": [
    "#### 2. What does an absolute path start with your operating system?"
   ]
  },
  {
   "cell_type": "markdown",
   "id": "7b1ca778",
   "metadata": {},
   "source": [
    "<b>Ans:</b> In <b>Linux based systems</b> the absolute path starts with <b> /</b>. Where as in <b>Windows based systems</b> absolute path starts with <b/>C:"
   ]
  },
  {
   "cell_type": "markdown",
   "id": "d6530f79",
   "metadata": {},
   "source": [
    "#### 3. What do the functions os.getcwd() and os.chdir() do?"
   ]
  },
  {
   "cell_type": "markdown",
   "id": "e6456198",
   "metadata": {},
   "source": [
    "<b> Ans: os.getcwd()</b> method tells us the location of current working directory (CWD). Whereas <b>os.chdir()</b> method in Python used to change the current working directory to specified path. "
   ]
  },
  {
   "cell_type": "markdown",
   "id": "b46d364c",
   "metadata": {},
   "source": [
    "#### 4. What are the . and .. folders?"
   ]
  },
  {
   "cell_type": "markdown",
   "id": "04b51861",
   "metadata": {},
   "source": [
    "<b> Ans: .</b> Represents the Current Directory Whereas <b>..</b> Represents the Parent Directory of the Current Directory"
   ]
  },
  {
   "cell_type": "markdown",
   "id": "47f2a585",
   "metadata": {},
   "source": [
    "#### 5. In C:\\bacon\\eggs\\spam.txt, which part is the dir name, and which part is the base name?"
   ]
  },
  {
   "cell_type": "markdown",
   "id": "c2f41baf",
   "metadata": {},
   "source": [
    "<b> Ans: </b>For C:\\bacon\\eggs\\spam.txt\n",
    "<br>The dir name is C:\\\\bacon\\\\eggs\n",
    "<br>The Base name is spam.txt\n",
    "\n"
   ]
  },
  {
   "cell_type": "code",
   "execution_count": 2,
   "id": "76f3fbb4",
   "metadata": {},
   "outputs": [
    {
     "name": "stdout",
     "output_type": "stream",
     "text": [
      "C:\\bacon\\eggs\n",
      "spam.txt\n"
     ]
    }
   ],
   "source": [
    "import os\n",
    "path = r'C:\\bacon\\eggs\\spam.txt'\n",
    "print(os.path.dirname(path))\n",
    "print(os.path.basename(path))"
   ]
  },
  {
   "cell_type": "markdown",
   "id": "0ceee89f",
   "metadata": {},
   "source": [
    "#### 6. What are the three “mode” arguments that can be passed to the open() function?"
   ]
  },
  {
   "cell_type": "markdown",
   "id": "33f20a14",
   "metadata": {},
   "source": [
    "<b>Ans:</b> A file can be accessed in python using <b>open()</b> function. \n",
    "- open function takes <b/>two arguments filename and mode of operation (optional). \n",
    "- If <b/> mode is not provided the default mode of opening is read mode\n",
    "<br><b/>The syntax is: open(filename, mode)\n",
    "\n",
    "- ‘r’ – Read Mode: This is the default mode for open(). The file is opened and a pointer is positioned at the beginning of the file’s content.\n",
    "- ‘w’ – Write Mode: Using this mode will overwrite any existing content in a file. If the given file does not exist, a new one will be created.\n",
    "- ‘r+’ – Read/Write Mode: Use this mode if you need to simultaneously read and write to a file.\n",
    "- ‘a’ – Append Mode: With this mode the user can append the data without overwriting any already existing data in the file.\n",
    "- ‘a+’ – Append and Read Mode: In this mode you can read and append the data without overwriting the original file.\n",
    "- ‘x’ – Exclusive Creating Mode: This mode is for the sole purpose of creating new files. Use this mode if you know the file to be written doesn’t exist beforehand."
   ]
  },
  {
   "cell_type": "markdown",
   "id": "28457c90",
   "metadata": {},
   "source": [
    "#### 7. What happens if an existing file is opened in write mode?"
   ]
  },
  {
   "cell_type": "markdown",
   "id": "8294fbc9",
   "metadata": {},
   "source": [
    "<b>Ans:</b> This will overwrite any existing content in a file. If the given file does not exist, a new one will be created."
   ]
  },
  {
   "cell_type": "markdown",
   "id": "0fa35b18",
   "metadata": {},
   "source": [
    "#### 8. How do you tell the difference between read() and readlines()?"
   ]
  },
  {
   "cell_type": "markdown",
   "id": "3b822cb7",
   "metadata": {},
   "source": [
    "<b> Ans: </b> The <b>read()</b> method gets the entire opened file as a string. \\ n is included. Entering a number in the argument limits the number of characters."
   ]
  },
  {
   "cell_type": "code",
   "execution_count": 25,
   "id": "507d434a",
   "metadata": {},
   "outputs": [
    {
     "data": {
      "text/plain": [
       "\"Marble,Sleepy\\nWhite,I'm hungry\\nBlack,Somehow warm\\nMarble,Poe Poe Poe\""
      ]
     },
     "execution_count": 25,
     "metadata": {},
     "output_type": "execute_result"
    }
   ],
   "source": [
    "f = open('articles.txt','r') \n",
    "\n",
    "f.read()\n"
   ]
  },
  {
   "cell_type": "markdown",
   "id": "7ac18aa3",
   "metadata": {},
   "source": [
    "The <b>readlines()</b> we can get the entire file as a line-by-line list."
   ]
  },
  {
   "cell_type": "code",
   "execution_count": 27,
   "id": "ef53560c",
   "metadata": {},
   "outputs": [
    {
     "data": {
      "text/plain": [
       "['Marble,Sleepy\\n',\n",
       " \"White,I'm hungry\\n\",\n",
       " 'Black,Somehow warm\\n',\n",
       " 'Marble,Poe Poe Poe']"
      ]
     },
     "execution_count": 27,
     "metadata": {},
     "output_type": "execute_result"
    }
   ],
   "source": [
    "f.seek(0)\n",
    "f.readlines()\n"
   ]
  },
  {
   "cell_type": "markdown",
   "id": "363c195b",
   "metadata": {},
   "source": [
    "#### 9. What data structure does a shelf value resemble?"
   ]
  },
  {
   "cell_type": "markdown",
   "id": "b509ff44",
   "metadata": {},
   "source": [
    "<b>Ans:</b>Shelf value resembles key and values. So, it represents <b/>dictionary."
   ]
  },
  {
   "cell_type": "code",
   "execution_count": null,
   "id": "e5e663e6",
   "metadata": {},
   "outputs": [],
   "source": []
  }
 ],
 "metadata": {
  "kernelspec": {
   "display_name": "Python 3 (ipykernel)",
   "language": "python",
   "name": "python3"
  },
  "language_info": {
   "codemirror_mode": {
    "name": "ipython",
    "version": 3
   },
   "file_extension": ".py",
   "mimetype": "text/x-python",
   "name": "python",
   "nbconvert_exporter": "python",
   "pygments_lexer": "ipython3",
   "version": "3.9.7"
  }
 },
 "nbformat": 4,
 "nbformat_minor": 5
}
